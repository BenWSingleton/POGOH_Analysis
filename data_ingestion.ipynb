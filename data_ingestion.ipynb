{
 "cells": [
  {
   "cell_type": "code",
   "execution_count": 1,
   "metadata": {},
   "outputs": [],
   "source": [
    "import os\n",
    "import pandas as pd"
   ]
  },
  {
   "cell_type": "code",
   "execution_count": 2,
   "metadata": {},
   "outputs": [],
   "source": [
    "path = os.getcwd() + \"\\\\data\\\\raw data\""
   ]
  },
  {
   "cell_type": "code",
   "execution_count": 3,
   "metadata": {},
   "outputs": [
    {
     "data": {
      "text/plain": [
       "'c:\\\\Users\\\\piggy\\\\Desktop\\\\work\\\\POGOH_Analysis\\\\data\\\\raw data'"
      ]
     },
     "execution_count": 3,
     "metadata": {},
     "output_type": "execute_result"
    }
   ],
   "source": [
    "path"
   ]
  },
  {
   "cell_type": "code",
   "execution_count": 4,
   "metadata": {},
   "outputs": [],
   "source": [
    "files = os.listdir(path)"
   ]
  },
  {
   "cell_type": "code",
   "execution_count": 5,
   "metadata": {},
   "outputs": [
    {
     "data": {
      "text/plain": [
       "['apr-2023.xlsx',\n",
       " 'august-2022.xlsx',\n",
       " 'august-2023.xlsx',\n",
       " 'december-2022.xlsx',\n",
       " 'december-2023.xlsx',\n",
       " 'february-2023.xlsx',\n",
       " 'january-2023.xlsx',\n",
       " 'july-2022.xlsx',\n",
       " 'july-2023.xlsx',\n",
       " 'june-2022.xlsx',\n",
       " 'june-2023.xlsx',\n",
       " 'march-2023.xlsx',\n",
       " 'may-2022.xlsx',\n",
       " 'may-2023.xlsx',\n",
       " 'november-2022.xlsx',\n",
       " 'november-2023.xlsx',\n",
       " 'october-2022.xlsx',\n",
       " 'october-2023.xlsx',\n",
       " 'september-2022.xlsx',\n",
       " 'september-2023.xlsx']"
      ]
     },
     "execution_count": 5,
     "metadata": {},
     "output_type": "execute_result"
    }
   ],
   "source": [
    "files"
   ]
  },
  {
   "cell_type": "code",
   "execution_count": 6,
   "metadata": {},
   "outputs": [],
   "source": [
    "df = pd.DataFrame()"
   ]
  },
  {
   "cell_type": "code",
   "execution_count": 7,
   "metadata": {},
   "outputs": [
    {
     "name": "stderr",
     "output_type": "stream",
     "text": [
      "C:\\Users\\piggy\\AppData\\Local\\Temp\\ipykernel_10720\\2797311782.py:3: FutureWarning: The frame.append method is deprecated and will be removed from pandas in a future version. Use pandas.concat instead.\n",
      "  df = df.append(data)\n",
      "C:\\Users\\piggy\\AppData\\Local\\Temp\\ipykernel_10720\\2797311782.py:3: FutureWarning: The frame.append method is deprecated and will be removed from pandas in a future version. Use pandas.concat instead.\n",
      "  df = df.append(data)\n",
      "C:\\Users\\piggy\\AppData\\Local\\Temp\\ipykernel_10720\\2797311782.py:3: FutureWarning: The frame.append method is deprecated and will be removed from pandas in a future version. Use pandas.concat instead.\n",
      "  df = df.append(data)\n",
      "C:\\Users\\piggy\\AppData\\Local\\Temp\\ipykernel_10720\\2797311782.py:3: FutureWarning: The frame.append method is deprecated and will be removed from pandas in a future version. Use pandas.concat instead.\n",
      "  df = df.append(data)\n",
      "C:\\Users\\piggy\\AppData\\Local\\Temp\\ipykernel_10720\\2797311782.py:3: FutureWarning: The frame.append method is deprecated and will be removed from pandas in a future version. Use pandas.concat instead.\n",
      "  df = df.append(data)\n",
      "C:\\Users\\piggy\\AppData\\Local\\Temp\\ipykernel_10720\\2797311782.py:3: FutureWarning: The frame.append method is deprecated and will be removed from pandas in a future version. Use pandas.concat instead.\n",
      "  df = df.append(data)\n",
      "C:\\Users\\piggy\\AppData\\Local\\Temp\\ipykernel_10720\\2797311782.py:3: FutureWarning: The frame.append method is deprecated and will be removed from pandas in a future version. Use pandas.concat instead.\n",
      "  df = df.append(data)\n",
      "C:\\Users\\piggy\\AppData\\Local\\Temp\\ipykernel_10720\\2797311782.py:3: FutureWarning: The frame.append method is deprecated and will be removed from pandas in a future version. Use pandas.concat instead.\n",
      "  df = df.append(data)\n",
      "C:\\Users\\piggy\\AppData\\Local\\Temp\\ipykernel_10720\\2797311782.py:3: FutureWarning: The frame.append method is deprecated and will be removed from pandas in a future version. Use pandas.concat instead.\n",
      "  df = df.append(data)\n",
      "C:\\Users\\piggy\\AppData\\Local\\Temp\\ipykernel_10720\\2797311782.py:3: FutureWarning: The frame.append method is deprecated and will be removed from pandas in a future version. Use pandas.concat instead.\n",
      "  df = df.append(data)\n",
      "C:\\Users\\piggy\\AppData\\Local\\Temp\\ipykernel_10720\\2797311782.py:3: FutureWarning: The frame.append method is deprecated and will be removed from pandas in a future version. Use pandas.concat instead.\n",
      "  df = df.append(data)\n",
      "C:\\Users\\piggy\\AppData\\Local\\Temp\\ipykernel_10720\\2797311782.py:3: FutureWarning: The frame.append method is deprecated and will be removed from pandas in a future version. Use pandas.concat instead.\n",
      "  df = df.append(data)\n",
      "C:\\Users\\piggy\\AppData\\Local\\Temp\\ipykernel_10720\\2797311782.py:3: FutureWarning: The frame.append method is deprecated and will be removed from pandas in a future version. Use pandas.concat instead.\n",
      "  df = df.append(data)\n",
      "C:\\Users\\piggy\\AppData\\Local\\Temp\\ipykernel_10720\\2797311782.py:3: FutureWarning: The frame.append method is deprecated and will be removed from pandas in a future version. Use pandas.concat instead.\n",
      "  df = df.append(data)\n",
      "C:\\Users\\piggy\\AppData\\Local\\Temp\\ipykernel_10720\\2797311782.py:3: FutureWarning: The frame.append method is deprecated and will be removed from pandas in a future version. Use pandas.concat instead.\n",
      "  df = df.append(data)\n",
      "C:\\Users\\piggy\\AppData\\Local\\Temp\\ipykernel_10720\\2797311782.py:3: FutureWarning: The frame.append method is deprecated and will be removed from pandas in a future version. Use pandas.concat instead.\n",
      "  df = df.append(data)\n",
      "C:\\Users\\piggy\\AppData\\Local\\Temp\\ipykernel_10720\\2797311782.py:3: FutureWarning: The frame.append method is deprecated and will be removed from pandas in a future version. Use pandas.concat instead.\n",
      "  df = df.append(data)\n",
      "C:\\Users\\piggy\\AppData\\Local\\Temp\\ipykernel_10720\\2797311782.py:3: FutureWarning: The frame.append method is deprecated and will be removed from pandas in a future version. Use pandas.concat instead.\n",
      "  df = df.append(data)\n",
      "C:\\Users\\piggy\\AppData\\Local\\Temp\\ipykernel_10720\\2797311782.py:3: FutureWarning: The frame.append method is deprecated and will be removed from pandas in a future version. Use pandas.concat instead.\n",
      "  df = df.append(data)\n",
      "C:\\Users\\piggy\\AppData\\Local\\Temp\\ipykernel_10720\\2797311782.py:3: FutureWarning: The frame.append method is deprecated and will be removed from pandas in a future version. Use pandas.concat instead.\n",
      "  df = df.append(data)\n"
     ]
    }
   ],
   "source": [
    "for f in files:\n",
    "    data = pd.read_excel('./data/raw data/' + f)\n",
    "    df = df.append(data)"
   ]
  },
  {
   "cell_type": "code",
   "execution_count": 8,
   "metadata": {},
   "outputs": [],
   "source": [
    "df.to_excel(\"./data/combined data/data.xlsx\", index=False)"
   ]
  }
 ],
 "metadata": {
  "kernelspec": {
   "display_name": "Python 3",
   "language": "python",
   "name": "python3"
  },
  "language_info": {
   "codemirror_mode": {
    "name": "ipython",
    "version": 3
   },
   "file_extension": ".py",
   "mimetype": "text/x-python",
   "name": "python",
   "nbconvert_exporter": "python",
   "pygments_lexer": "ipython3",
   "version": "3.11.0"
  }
 },
 "nbformat": 4,
 "nbformat_minor": 2
}
